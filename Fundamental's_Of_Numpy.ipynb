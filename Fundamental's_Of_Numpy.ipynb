{
  "nbformat": 4,
  "nbformat_minor": 0,
  "metadata": {
    "colab": {
      "provenance": [],
      "collapsed_sections": []
    },
    "kernelspec": {
      "name": "python3",
      "display_name": "Python 3"
    },
    "language_info": {
      "name": "python"
    }
  },
  "cells": [
    {
      "cell_type": "markdown",
      "source": [
        "# Introduction To Numpy\n",
        "Numpy was created to change the standard of list creation in python. Moreover, this library is able to handle functions of linear algebra, matrices etc. \n",
        "\n",
        "Hence, making this library one the most popular lib within the world of Data science.\n",
        "\n",
        "Numpy array's are 50x faster then normal python lists, due to the reason that Numpy array's are stored in a continous fashion inside the memory unlike lists.\n"
      ],
      "metadata": {
        "id": "l1xd1Yk6yMEo"
      }
    },
    {
      "cell_type": "code",
      "execution_count": null,
      "metadata": {
        "id": "HZozAZfbyJF2"
      },
      "outputs": [],
      "source": [
        "import numpy as np"
      ]
    },
    {
      "cell_type": "markdown",
      "source": [
        "# Creating Numpy Array's\n",
        "We'll be demonstrating a few ways numpy arrays are made using the library along with comparsion to normal lists.\n"
      ],
      "metadata": {
        "id": "rvuqMPddzIw3"
      }
    },
    {
      "cell_type": "markdown",
      "source": [
        "We'll be showcasing the types of both normal lists + numpy array. Allowing you to understand, that np arrays are n-dimensional arrays\n"
      ],
      "metadata": {
        "id": "gXMRFh0u3GV1"
      }
    },
    {
      "cell_type": "code",
      "source": [
        "normal_list = [1,2,3,4,5]\n",
        "np_array = np.array(normal_list)\n",
        "print(type(normal_list))\n",
        "print(type(np_array))"
      ],
      "metadata": {
        "colab": {
          "base_uri": "https://localhost:8080/"
        },
        "id": "gVUDPd8qzW45",
        "outputId": "666eb731-4846-48cb-a03b-45352814dd09"
      },
      "execution_count": null,
      "outputs": [
        {
          "output_type": "stream",
          "name": "stdout",
          "text": [
            "<class 'list'>\n",
            "<class 'numpy.ndarray'>\n",
            "(5,)\n"
          ]
        }
      ]
    },
    {
      "cell_type": "markdown",
      "source": [
        "# Dimensions In Array\n",
        "We'll be going over the concept of dimensions when it comes to numpy arrays. \n",
        "Dimension's can be calculated using:\n",
        "\n",
        "```\n",
        "np_array = np.array([1,2,3,4])\n",
        "print(np_array.ndim)\n",
        "```\n",
        "We can also force define the dimension of the array while creating it by specifying the ndmin parameter like:\n",
        "\n",
        "```\n",
        "np_array = np.array([1,2,3,4], ndmin=5)\n",
        "print(np_array.dmin)\n",
        "\n",
        "# Output: [[[[[1,2,3,4]]]]]\n",
        "\n",
        "```\n",
        "\n",
        "We can use the **shape()** method to caclulate the rows and columns inside the array. The output of this method is a tuple ex (2,4),  which represents the dimension and the number of elements inside that array.\n",
        "\n",
        "```\n",
        "np_array = np.array([1,2,3,4], ndmin=5)\n",
        "print(\"Number of dimensions & Elements in array: \", np_array.shape)\n",
        "```"
      ],
      "metadata": {
        "id": "wT0Np3OR3tav"
      }
    },
    {
      "cell_type": "markdown",
      "source": [
        "# Accessing Numpy Array's\n",
        "Accesing numpy array's are very similar to normal list's however their mathematical logic is tremendously different and powerfull.\n",
        "\n",
        "```\n",
        "np_array = np.array([1,2,3,4])\n",
        "print(np_array[0])\n",
        "\n",
        "Output: 1\n",
        "\n",
        "np_array = np.array([[1,2,3,4], [5,6,7,8],]) # Try accessing the element 6\n",
        "print(np_array[1, 1])\n",
        "\n",
        "Output: 6\n",
        "\n",
        "```\n",
        "\n",
        "Above examples indicated how two dimensional array is handled and accessing it is like, assuming each dimension is a row, and each element inside that row is a column. \n",
        "\n",
        "Hence, using a singlar square bracket's we can accessing them as per above example.\n",
        "\n",
        "Likewise, positive indexing, we can access elements the same way using negative indexing as well. Like:\n",
        "\n",
        "```\n",
        "np_array = np.array([[1,2,3,4], [5,6,7,8],]) # Access the second element of the second array by using negative index\n",
        "print(np_array[1,-3])\n",
        "\n",
        "Output: 6\n",
        "\n",
        "\n",
        "```"
      ],
      "metadata": {
        "id": "MXUTH-ag5auA"
      }
    },
    {
      "cell_type": "markdown",
      "source": [
        "# Numpy Array Slicing\n",
        "Slicing of array's or any objects means to slice the object from one given element to another given element.\n",
        "\n",
        "**np_array[start:end]**\n",
        "**np_array[start:end:step]**\n",
        "\n",
        "*start means the index of the element you want to start the slice from, and end means the exlusive element index.*\n",
        "\n",
        "*Meanwhile, the step parameter controls the pattern of accessing the objects, aka skipping*\n",
        "\n",
        "```\n",
        "np_array = np.array([1,2,3,4,5])\n",
        "np_array[:]  # Output's the whole object\n",
        "np_array[2:4] # Output's [3,4] exlude the 4 index element\n",
        "np_array[:3] # Output's [1,2,3,4] includes the 3 index element\n",
        " ```\n",
        "\n",
        "**Two Dimensional Slicing**\n",
        "```\n",
        "np_array = np.array([[1,2,3,4,5], [6,7,8,9,10]])\n",
        "np_array[0:2, 3:] # Output [[4,5],[9,10]]\n",
        " ```\n",
        "\n",
        "\n",
        "\n"
      ],
      "metadata": {
        "id": "Hh7KXqbN875C"
      }
    },
    {
      "cell_type": "markdown",
      "source": [
        "# Data Types In Numpy Array\n",
        "Python has numerous data types, which are represented by different key words.\n",
        "\n",
        "In numpy data types are also represented by a different key word.\n",
        "\n",
        "i - integer\n",
        "\n",
        "b - boolean\n",
        "\n",
        "u - unsigned integer\n",
        "\n",
        "f - float\n",
        "\n",
        "c - complex float\n",
        "\n",
        "m - timedelta\n",
        "\n",
        "M - datetime\n",
        "\n",
        "O - object\n",
        "\n",
        "S - string\n",
        "\n",
        "U - unicode string\n",
        "\n",
        "V - fixed chunk of memory for other type ( void )\n",
        "\n",
        "\n",
        "\n",
        "```\n",
        "# Checking For Type of an element inside an array\n",
        "np_array = np.array([1,2,3,4,5])\n",
        "print(np_array.dtype)  # Output will be i aka integer\n",
        "```\n",
        "\n",
        "We can also force change a type of an array by using **astype()** method.\n",
        "\n",
        "However, you'll never be able to convert a String to an Integer.\n",
        "\n",
        "```\n",
        "np_array = np.array([1,2,3,4,5])  # dtype=i aka Integer\n",
        "new_array = np_array.astype('S')  # dtype=S aka String\n",
        "\n",
        "```\n",
        "\n"
      ],
      "metadata": {
        "id": "yXgqJM4_RLX_"
      }
    },
    {
      "cell_type": "markdown",
      "source": [
        "# Copy & View Array\n",
        "We explore the concept of referening data of an array and creating a new array with the data. \n",
        "\n",
        "Copy of an array, indicates that the array owns the data and any changes made this copy will not affect the original array.\n",
        "\n",
        "Meanwhile, View of an array, doesn't not own the data and any changes made to this view will result in the change of data in the original array.\n",
        "\n",
        "\n",
        "\n",
        "```\n",
        "np_array = np.array([1,2,3,4,5])\n",
        "copy_array = np_array.copy()\n",
        "copy_array[0] = 10   # Copy array will not change the original np_array data.\n",
        "```\n",
        "\n",
        "Checking if the original array was changed using the **base()** method on the child array.\n",
        "\n"
      ],
      "metadata": {
        "id": "OscIMkdLUal7"
      }
    },
    {
      "cell_type": "markdown",
      "source": [
        "# Reshaping Numpy Arrays\n",
        "We'll explore the concepts of converting 1 dimensional array's to two dimensional array's.\n",
        "\n",
        "This will further solidfy the concepts of creating n-dimentional arrays from an existing array.\n",
        "\n",
        "Hence, reshaping arrays like:\n",
        "\n",
        "\n",
        "```\n",
        "# One Dimensional To Two Dimensional\n",
        "\n",
        "np_array = np.array([1, 2, 3, 4, 5, 6, 7, 8, 9, 10, 11, 12]) #ndim = 1\n",
        "new_array = np_array.reshape(2,6)\n",
        "\n",
        "#Output = [[1,2,3,4,5,6][7,8,9,10,11,12]]\n",
        "```\n",
        "\n",
        "```\n",
        "# One Dimensional To Three Dimensional\n",
        "\n",
        "np_array = np.array([1, 2, 3, 4, 5, 6, 7, 8, 9, 10, 11, 12]) #ndim = 1\n",
        "new_array = np_array.reshape(2, 3, 2) # Array // Dimensions // Elements\n",
        "#Output = [[[1,2][3,4][5,6]]\n",
        "            [[7,8][9,10][11,12]]]\n",
        "```\n",
        "\n",
        "# Unknown Dimensions\n",
        "When you're not able to calculate or want the computer to calculate the number of elements inside the dimensions **eg (2,2,x)**.\n",
        "\n",
        "We can use **-1** to make numpy calculate the parameter\n",
        "\n",
        "```\n",
        "np_array = np.array([1, 2, 3, 4, 5, 6, 7, 8])\n",
        "\n",
        "newarr = arr.reshape(2, 2, -1)\n",
        "\n",
        "#Output: [[[1,2][3,4]]\n",
        "           [[5,6][7,8]]\n",
        "\n",
        "```\n",
        "\n",
        "\n",
        "\n"
      ],
      "metadata": {
        "id": "8xjX9HAIXix5"
      }
    },
    {
      "cell_type": "markdown",
      "source": [
        "# Multidimensional Array To 1-D Array //  Flattening Array \n",
        "We've already understood how reshaping of array's wokr, they can be converted from 1-D to 2-D, even 3-D to n-dimensions.\n",
        "\n",
        "However, inorder to convert back, it follows a much easier process.\n",
        "\n",
        "```\n",
        "arr = np.array([[1, 2, 3], [4, 5, 6]])\n",
        "\n",
        "newarr = arr.reshape(-1)\n",
        "\n",
        "print(newarr)\n",
        "\n",
        "Output: [1, 2, 3, 4, 5, 6] \n",
        "```"
      ],
      "metadata": {
        "id": "GQzKP_OElNBR"
      }
    },
    {
      "cell_type": "markdown",
      "source": [],
      "metadata": {
        "id": "iyzElYUbbBay"
      }
    },
    {
      "cell_type": "code",
      "source": [
        "array = np.array([1,2,3,4,5,6])\n",
        "new_arr = array + 1\n",
        "print(new_arr)"
      ],
      "metadata": {
        "colab": {
          "base_uri": "https://localhost:8080/"
        },
        "id": "hFJypcCFn7Oh",
        "outputId": "7ef30dc8-8c35-490a-a2cf-fa7c73787b5b"
      },
      "execution_count": null,
      "outputs": [
        {
          "output_type": "stream",
          "name": "stdout",
          "text": [
            "[2 3 4 5 6 7]\n"
          ]
        }
      ]
    },
    {
      "cell_type": "markdown",
      "source": [
        "# Iteration Over n-dimensional Arrays\n",
        "Iteration over array's normally is done using **for** loop. However in numpy's case, these array's can be handled using other functions such as **nditer**.\n",
        "\n",
        "\n",
        "```\n",
        "np_array = np.array([[[1,2,3][4,5,6]][[7,8,9][10,11,12]]])\n",
        "for x in np.nditer(np_array):\n",
        "  print(x)\n",
        "\n",
        "# Output: scalar values, aka indiviual values. ex 1 2 3 4 5\n",
        "```\n",
        "# Iterations By Skipping Elements\n",
        "When we say skipping elements, we've already understood how \"steps\" work when slicing arrays.\n",
        "\n",
        "This skipping iteration follows the same steps system and the same syntax. Ex.\n",
        "\n",
        "\n",
        "```\n",
        "# Create a 2-D Array for example\n",
        "arr = np.array([1,2,3,4,5,6,7,8,9,10]].reshape(2,5)\n",
        "\n",
        "# Iteration past every second element in the array's\n",
        "for x in np.nditer(arr[:,::2]):\n",
        "  print(x)\n",
        "\n",
        "\n",
        "```\n",
        "\n",
        "# Enumeration of Iterations\n",
        "We use enumerate methods, as they are able to keep a sequence track of the iteration.\n",
        "\n",
        "Hence, we'll be able to access the index of the element which is being iterated over.\n",
        "\n",
        "```\n",
        "np_array = np.array([1,2,3,4,5,6]).reshape(2,3)\n",
        "for idx, x in np.ndenumerate(np_array):\n",
        "  print(idx, x)\n",
        "\n",
        "#Output:  2-D Array's give back a typle index\n",
        "(0, 0) 1\n",
        "(0, 1) 2\n",
        "(0, 2) 3\n",
        "(1, 0) 4\n",
        "(1, 1) 5\n",
        "(1, 2) 6\n",
        "```\n",
        "\n"
      ],
      "metadata": {
        "id": "ytLXgDkfW2IA"
      }
    },
    {
      "cell_type": "markdown",
      "source": [
        "# Joining Array\n",
        "We'll be exploring the functions of joining numpy arrays.\n",
        "\n",
        "Exactly how SQL join works, and join two table of content based on keys etc.\n",
        "\n",
        "However, in numpy's case we use **concatenate()** along with axis parameter, which is default 0.\n",
        "\n",
        "\n",
        "\n",
        "```\n",
        "arr1 = np.array([1, 2, 3])\n",
        "\n",
        "arr2 = np.array([4, 5, 6])\n",
        "\n",
        "arr = np.concatenate((arr1, arr2))\n",
        "\n",
        "print(arr)\n",
        "\n",
        "#Output: [1,2,3,4,5,6]\n",
        "```\n",
        "\n",
        "# Stacking Arrays\n",
        "\n",
        "We can also stack the array's on each other after joining using the **stack()** function. The stack is done along the axis if specified as '1' \n",
        "\n",
        "```\n",
        "arr1 = np.array([1, 2, 3])\n",
        "\n",
        "arr2 = np.array([4, 5, 6])\n",
        "\n",
        "arr = np.stack((arr1, arr2), axis=1)\n",
        "\n",
        "print(arr)\n",
        "\n",
        "#Output: [[1,4]\n",
        "          [2,5]\n",
        "          [3,6]]\n",
        "\n",
        "```\n",
        "There are three different stypes of stack methods, hstack, vstack & dstack.\n",
        "\n",
        "Hstack is where the array is stacked along the row aka flat.\n",
        "ex. [1,2,3,4,5]\n",
        "\n",
        "vstack is where the array is stacked along the column aka veritcal.\n",
        "ex. \n",
        "```\n",
        "[1,2]\n",
        "[3,4]\n",
        "[5,6] \n",
        "```\n",
        "dstack is where the array is stacked along the height of the axis.\n",
        "ex, \n",
        "```\n",
        "[1,4]\n",
        "[2,5]\n",
        "[3,6] \n",
        "```\n"
      ],
      "metadata": {
        "id": "iY6ncK6Vd7Lc"
      }
    },
    {
      "cell_type": "markdown",
      "source": [
        "# Spliting\n",
        "Numpy has spliting capabilities which allows us to split a n-dimensional array into different arrays and access them normally using indexing.\n",
        "\n",
        "```\n",
        "\n",
        "arr = np.array([1, 2, 3, 4, 5, 6])\n",
        "\n",
        "newarr = np.array_split(arr, 3)\n",
        "\n",
        "```"
      ],
      "metadata": {
        "id": "vPs4TfGghK2i"
      }
    },
    {
      "cell_type": "markdown",
      "source": [
        "# Searching In Numpy Arrays\n",
        "To find a specific element inside an array, we'll be able to use the **where()** function.\n",
        "```\n",
        "arr1 = np.array([1,2,3,4,5,5,6])\n",
        "x = np.where(arr1 == 5) \n",
        "\n",
        "#Output: array([4,5]) is the index of two 5's in the array\n",
        "```\n",
        "\n",
        "# Sort Search in Numpy \n",
        "We're also able to carry out a binary search using the helping function **searchsorted()**. \n",
        "\n",
        "This type of function by default carries out a search LEFT-To-RIGHT, however it takes parameters of doing the search in reverse index as well. \n",
        "\n",
        "Moreover, searchsorted() also takes parameter of multiple search items. \n",
        "\n",
        "**This search is only done, to calcualte the index where an element could be inserted in order to maintain order of the array.**\n",
        "\n",
        "```\n",
        "arr = np.array([6, 7, 8, 9])\n",
        "\n",
        "x = np.searchsorted(arr, [7,8], side='right')\n",
        "\n",
        "print(x)\n",
        "```"
      ],
      "metadata": {
        "id": "xT23fpcQh0K9"
      }
    },
    {
      "cell_type": "markdown",
      "source": [
        "# Specific Sorting\n",
        "Numpy also have helping functions which allows, the user to sort their data array alphabetically, acending/decending order etc.\n",
        "\n",
        "```\n",
        "np_array = np.array([2,0,1,5,7])\n",
        "arr = np.sort(np_array)\n",
        "\n",
        "#Output:  [0,1,2,5,7]\n",
        "```\n"
      ],
      "metadata": {
        "id": "QA5Ga417j8Tf"
      }
    },
    {
      "cell_type": "markdown",
      "source": [
        "# Filtering\n",
        "Numpy is able to filter throught a integer array and output a boolean array, according to a condition specified.\n",
        "\n",
        "By default, filter function output's an array according to the index of the orignal array. \n",
        "\n",
        "However, Filter can be powerfull to create a boolean array for a specific condition eg. Boolean array without\n",
        "\n",
        "```\n",
        "np_array = np.array([43,44,50,51,60,39])\n",
        "\n",
        "#Filter Condition\n",
        "filter_condition = np_array >= 50\n",
        "\n",
        "#Output: [False False  True  True  True False]\n",
        "```"
      ],
      "metadata": {
        "id": "VeXgnSk3koHH"
      }
    }
  ]
}